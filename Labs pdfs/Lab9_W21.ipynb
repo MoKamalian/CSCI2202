{
 "cells": [
  {
   "cell_type": "markdown",
   "metadata": {},
   "source": [
    "### CSCI 2202 Lab 9: Matrices and Vectors I ###"
   ]
  },
  {
   "cell_type": "markdown",
   "metadata": {},
   "source": [
    "**Ex.I** Consider a model of population movement between cities and suburbs  in the US (data from 2007). Estimate of the number of people living in cities (c) 82 million and suburbs  (s) 163 million. The initial distribution can be represented as: $x_0 = [82 \\quad 163]^T $\n",
    "\n",
    "The proportion of **city** dwellers staying in a **city** in current year: \n",
    "$P(c|c) = 0.96$ $\\therefore$ the proportion of **city** dwellers moving to a **suburb** is \n",
    "$P(s|c) = 0.04$; The proportion of **suburbanites** moving to the **city** is: $P(c|s) = 0.01$ \n",
    "and hence the proportion of **suburbanites** staying in the suburbs is $P(s|s) = 0.99$. \n",
    "1. From this  information, set up the transition matrix: $P$ (see Lecture Notes 5 \\& 5B)\n",
    "2. Write a program that prints out the population distribution in 2008, 2009, 2010, 2011 \\& 2012. You may use the **numpy** functions for matrix/vector multiplication.\n"
   ]
  },
  {
   "cell_type": "code",
   "execution_count": null,
   "metadata": {},
   "outputs": [],
   "source": []
  },
  {
   "cell_type": "markdown",
   "metadata": {},
   "source": [
    "**Ex.I** Write a function **transp(A)**. That takes a matrix $A$ as input and returns the **transpose** of $A$ (recall that the transpose of $A$ interchanges the rows and column of a matrix. To do this, you can iterate over the rows of $A$ and the columns of the row. For each \n",
    "element $a_{ij}$ you access, you can make the assignment $a_{ji} = a_{ij}$."
   ]
  },
  {
   "cell_type": "code",
   "execution_count": null,
   "metadata": {},
   "outputs": [],
   "source": []
  },
  {
   "cell_type": "markdown",
   "metadata": {},
   "source": [
    "**Ex.III** Write a function (without using the *numpy* functions *matmult, dot, \\@ etc.* that \n",
    "takes two matrices as input parameters and computes the product of the two matrices. \n",
    "Write two versions of the function:\n",
    "\n",
    "1. *mMult(X, Y)* which returns the resultant matrix.\n",
    "2.  *mMult-noRet(X, Y, Z)* where $Z$ is a matrix of zeros, of dimensions\n",
    " equal to that of the matrix $XY$, **created within the calling program.** This function should **not** return anything. Instead, The matrix $Z$ is created in the calling program,\n",
    " and passed as a parameter to your function **mMult-noRet(X, Y, Z)**. Your function should compute the result in Z.\n",
    " 3. Test your code by generating two random, integer matrices, of dimensions $5\\times 5$ with elements taken from the integers 0 $\\ldots$ 9 \n",
    " *(See class notes (Lec 5B, avail. online)). Assume the matrices are compatible for multiplication in the order given in the function parameters.  *i.e.* **mMult(X, Y)** returns the matrix product $XY$).*\n",
    " 4. Verify your result using the numpy functions for multiplication of matrices.\n",
    "\n",
    "Notes:\n",
    "(a) The result of the multiplication: $C =AB$ is $[c_{ij}] = \\sum_{j=0}^{n-1} a_{ij} b_{jk}$\n",
    "(b) The number of **rows** of a matrix can be accessed by *len(A)* and the number of \n",
    "**columns** of $A$ can be acessed as *len($A[0])$*"
   ]
  },
  {
   "cell_type": "code",
   "execution_count": null,
   "metadata": {},
   "outputs": [],
   "source": []
  },
  {
   "cell_type": "code",
   "execution_count": null,
   "metadata": {},
   "outputs": [],
   "source": []
  }
 ],
 "metadata": {
  "kernelspec": {
   "display_name": "Python 3",
   "language": "python",
   "name": "python3"
  },
  "language_info": {
   "codemirror_mode": {
    "name": "ipython",
    "version": 3
   },
   "file_extension": ".py",
   "mimetype": "text/x-python",
   "name": "python",
   "nbconvert_exporter": "python",
   "pygments_lexer": "ipython3",
   "version": "3.7.1"
  }
 },
 "nbformat": 4,
 "nbformat_minor": 2
}
