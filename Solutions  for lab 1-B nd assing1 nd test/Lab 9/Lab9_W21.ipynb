{
 "cells": [
  {
   "cell_type": "markdown",
   "metadata": {},
   "source": [
    "### CSCI 2202 Lab 9: Matrices and Vectors I ###"
   ]
  },
  {
   "cell_type": "markdown",
   "metadata": {},
   "source": [
    "**Ex.I** Consider a model of population movement between cities and suburbs  in the US (data from 2007). Estimate of the number of people living in cities (c) 82 million and suburbs  (s) 163 million. The proportion of **city** dwellers staying in a **city** in current year: \n",
    "$P(c|c) = 0.96$ $\\therefore$ the proportion of **city** dwellers moving to a **suburb** is \n",
    "$P(s|c) = 0.04$; The proportion of **suburbanites** moving to the **city** is: $P(c|s) = 0.01$ \n",
    "and hence the proportion of **suburbanites** moving to the city is $P(s|s) = 0.99$. \n",
    "1. From this  information, set up the transition matrix: $P$ (see Lecture Notes 5 \\& 5B)\n",
    "2. Write a program that prints out the population distribution in 2008, 2009, 2010, 2011 \\& 2012. You may use the **numpy** functions for matrix/vector multiplication."
   ]
  },
  {
   "cell_type": "code",
   "execution_count": 20,
   "metadata": {},
   "outputs": [
    {
     "name": "stdout",
     "output_type": "stream",
     "text": [
      "External modules imported successfully.\n"
     ]
    }
   ],
   "source": [
    "import numpy as np\n",
    "\n",
    "print(\"External modules imported successfully.\")"
   ]
  },
  {
   "cell_type": "code",
   "execution_count": 21,
   "metadata": {},
   "outputs": [
    {
     "name": "stdout",
     "output_type": "stream",
     "text": [
      "Populations in 2007 (X_0):\n",
      "[[ 82]\n",
      " [163]]\n",
      "\n",
      "P:\n",
      "[[0.96 0.01]\n",
      " [0.04 0.99]]\n",
      "\n",
      "Populations in 2008\n",
      "[[ 80.35]\n",
      " [164.65]]\n",
      "\n",
      "Populations in 2009\n",
      "[[ 78.7825]\n",
      " [166.2175]]\n",
      "\n",
      "Populations in 2010\n",
      "[[ 77.293375]\n",
      " [167.706625]]\n",
      "\n",
      "Populations in 2011\n",
      "[[ 75.87870625]\n",
      " [169.12129375]]\n",
      "\n",
      "Populations in 2012\n",
      "[[ 74.53477094]\n",
      " [170.46522906]]\n"
     ]
    }
   ],
   "source": [
    "# Create and print the initial population vector,\n",
    "# where the values are in millions.\n",
    "X0 = np.array([[82, 163]]).T\n",
    "\n",
    "print(\"Populations in 2007 (X_0):\")\n",
    "print(X0)\n",
    "\n",
    "# Create and print the initial movement probabilities.\n",
    "P = np.array([[0.96, 0.01], [0.04, 0.99]])\n",
    "P2 = np.copy(P)\n",
    "\n",
    "print(\"\\nP:\")\n",
    "print(P)\n",
    "\n",
    "# Iterate through the given years and print the population\n",
    "for i in range(5):\n",
    "    print(\"\\nPopulations in\", 2007+i+1)\n",
    "    print(P2@X0)\n",
    "    P2 = P@P2"
   ]
  },
  {
   "cell_type": "markdown",
   "metadata": {},
   "source": [
    "**Ex.I** Write a function **transp(A)**. That takes a matrix $A$ as input and returns the **transpose** of $A$ (recall that the transpose of $A$ interchanges the rows and column of a matrix. To do this, you can iterate over the rows of $A$ and the columns of the row. For each \n",
    "element $a_{ij}$ you access, you can make the assignment $a_{ji}$."
   ]
  },
  {
   "cell_type": "code",
   "execution_count": 22,
   "metadata": {},
   "outputs": [
    {
     "name": "stdout",
     "output_type": "stream",
     "text": [
      "Transpose functions created successfully.\n"
     ]
    }
   ],
   "source": [
    "def transpose1(A):\n",
    "    M = A.copy()\n",
    "    T = np.zeros(M.shape[::-1])\n",
    "    for i in range(M.shape[1]):\n",
    "        T[i] = M[:,i]\n",
    "    return T\n",
    "\n",
    "def transpose2(A):\n",
    "    T = np.zeros(A.shape[::-1])\n",
    "    for i in range(A.shape[0]):\n",
    "        for j in range(A.shape[1]):\n",
    "            T[j, i] = A[i, j]\n",
    "    return T\n",
    "\n",
    "print(\"Transpose functions created successfully.\")"
   ]
  },
  {
   "cell_type": "markdown",
   "metadata": {},
   "source": [
    "**Ex.III** Write a function (without using the *numpy* functions *matmult, dot, \\@ etc.* that \n",
    "takes two matrices as input parameters and computes the product of the two matrices. \n",
    "Write two versions of the function:\n",
    "\n",
    "1. *mMult(X, Y)* which returns the resultant matrix.\n",
    "2.  *mMult-noRet(X, Y, Z)* where $Z$ is a matrix of zeros, of dimensions\n",
    " equal to that of the matrix $XY$, **created within the calling program.** This function should **not** return anything. Instead, The matrix $Z$ is created in the calling program,\n",
    " and passed as a parameter to your function **mMult-noRet(X, Y, Z)**. Your function should compute the result in Z.\n",
    " 3. Test your code by generating two random, integer matrices, of dimensions $5\\times 5$ with elements taken from the integers 0 $\\ldots$ 9 \n",
    " *(See class notes (Lec 5B, avail. online)). Assume the matrices are compatible for multiplication in the order given in the function parameters.  *i.e.* **mMult(X, Y)** returns the matrix product $XY$).*\n",
    " 4. Verify your result using the numpy functions for multiplication of matrices.\n",
    "\n",
    "Notes:\n",
    "(a) The result of the multiplication: $C =AB$ is $[c_{ij}] = \\sum_{j=0}^{n-1} a_{ij} b_{jk}$\n",
    "(b) The number of **rows** of a matrix can be accessed by *len(A)* and the number of \n",
    "**columns** of $A$ can be acessed as *len($A[0]$*"
   ]
  },
  {
   "cell_type": "code",
   "execution_count": 23,
   "metadata": {},
   "outputs": [
    {
     "name": "stdout",
     "output_type": "stream",
     "text": [
      "Matrix multiplication functions successfully created.\n"
     ]
    }
   ],
   "source": [
    "def mMult(X, Y):\n",
    "    # Whenever you multiply a matrix, the row count of the left\n",
    "    # hand matrix has to be the same as the column count of the\n",
    "    # right hand matrix. If this condition is satisfied, in\n",
    "    # general you will have the following matrices:\n",
    "    #\n",
    "    #     X         Y        =       Z\n",
    "    #   n x k     k x m            n x m\n",
    "    #\n",
    "    # Notice that there are three variables: n, m, k. This means\n",
    "    # there are three dimensions for us to iterate through when\n",
    "    # performing this calculation and so we will need three\n",
    "    # for-loops. If you don't understand how the following calculation\n",
    "    # works, I suggest writing out the matrix multiplication by hand\n",
    "    # using the traditional method and then do the following for-loops\n",
    "    # by hand and see how they arrive at the same result. Also note\n",
    "    # that this algorithm doesn't care which order the for-loops go\n",
    "    # in. That means you could swap the for-loops and the result\n",
    "    # will still be calculated properly.\n",
    "\n",
    "    # First, we can get the dimensions required for the matrices.   \n",
    "    n = X.shape[0]\n",
    "    k = X.shape[1]\n",
    "    m = Y.shape[1]\n",
    "\n",
    "    # Next we create a new matrix Z for holding the result.\n",
    "    # The dimensions of Z can be found above.\n",
    "    Z = np.zeros((n, m))\n",
    "    \n",
    "    # Perform a matrix multiplication by adding\n",
    "    # the product of each set of relevant coordinates.\n",
    "    # This will accumulate the row/column sum of products\n",
    "    # and leave Z with the final result.\n",
    "    for i in range(n):\n",
    "        for j in range(k):\n",
    "            for w in range(m):\n",
    "                Z[i][w] += X[i][j] * Y[j][w]\n",
    "\n",
    "    # Finally, return the completed matrix.\n",
    "    return Z\n",
    "\n",
    "# This is the same as above, except Z is provided.\n",
    "# If you're good, you could just have one function\n",
    "# call the other instead!\n",
    "def mMult_NoRet(X, Y, Z):\n",
    "    n = X.shape[0]\n",
    "    k = X.shape[1]\n",
    "    m = Y.shape[1]\n",
    "\n",
    "    for i in range(n):\n",
    "        for j in range(k):\n",
    "            for w in range(m):\n",
    "                Z[i][w] += X[i][j] * Y[j][w]\n",
    "\n",
    "print(\"Matrix multiplication functions successfully created.\")"
   ]
  },
  {
   "cell_type": "code",
   "execution_count": 24,
   "metadata": {},
   "outputs": [
    {
     "name": "stdout",
     "output_type": "stream",
     "text": [
      "Starting Matrix:\n",
      "[[1 2]\n",
      " [3 4]]\n",
      "\n",
      "NumPy: Matrix Squared:\n",
      "[[ 7 10]\n",
      " [15 22]]\n",
      "\n",
      "mMult: Matrix Squared:\n",
      "[[ 7. 10.]\n",
      " [15. 22.]]\n",
      "\n",
      "mMult_NoRet: Matrix Squared:\n",
      "None\n",
      "[[ 7. 10.]\n",
      " [15. 22.]]\n",
      "X\n",
      "[[1 2]\n",
      " [3 4]]\n",
      "\n",
      "Y\n",
      "[[5 6]\n",
      " [7 8]]\n",
      "\n",
      "XY\n",
      "[[19. 22.]\n",
      " [43. 50.]]\n",
      "\n",
      "Y^T * X^T\n",
      "[[19. 43.]\n",
      " [22. 50.]]\n",
      "\n",
      "XY Transpose\n",
      "[[19. 43.]\n",
      " [22. 50.]]\n",
      "\n",
      "Numpy XY Transpose\n",
      "[[19 43]\n",
      " [22 50]]\n",
      "\n",
      "Numpy Y^T * X^T\n",
      "[[19 43]\n",
      " [22 50]]\n",
      "\n"
     ]
    }
   ],
   "source": [
    "M = np.array([[1,2],[3,4]])\n",
    "\n",
    "print(\"Starting Matrix:\")\n",
    "print(M)\n",
    "\n",
    "print(\"\\nNumPy: Matrix Squared:\")\n",
    "print(M@M)\n",
    "\n",
    "print(\"\\nmMult: Matrix Squared:\")\n",
    "print(mMult(M, np.copy(M)))\n",
    "\n",
    "print(\"\\nmMult_NoRet: Matrix Squared:\")\n",
    "\n",
    "Result = np.zeros((M.shape))\n",
    "\n",
    "print(mMult_NoRet(M, np.copy(M), Result))\n",
    "print(Result)\n",
    "    \n",
    "# Create two multipliable matrices and print them.\n",
    "X = np.array([[1, 2], [3, 4]])\n",
    "Y = np.array([[5, 6], [7, 8]])\n",
    "\n",
    "print(\"X\")\n",
    "print(X)\n",
    "print()\n",
    "\n",
    "print(\"Y\")\n",
    "print(Y)\n",
    "print()\n",
    "\n",
    "# Create XY and print it.\n",
    "XY = mMult(X, Y)\n",
    "print(\"XY\")\n",
    "print(XY)\n",
    "print()\n",
    "\n",
    "# Create YtXt and print it.\n",
    "YtXt = mMult(transpose1(Y), transpose2(X))\n",
    "print(\"Y^T * X^T\")\n",
    "print(YtXt)\n",
    "print()\n",
    "\n",
    "# Transpose XY and print it.\n",
    "XYt = transpose1(XY)\n",
    "print(\"XY Transpose\")\n",
    "print(XYt)\n",
    "print()\n",
    "\n",
    "# Compare it to the built-in multiplication and transpose method.\n",
    "numpyXYt = (X@Y).T\n",
    "numpyYtXt = Y.T@X.T\n",
    "print(\"Numpy XY Transpose\")\n",
    "print(numpyXYt)\n",
    "print()\n",
    "print(\"Numpy Y^T * X^T\")\n",
    "print(numpyYtXt)\n",
    "print()"
   ]
  }
 ],
 "metadata": {
  "kernelspec": {
   "display_name": "Python 3",
   "language": "python",
   "name": "python3"
  },
  "language_info": {
   "codemirror_mode": {
    "name": "ipython",
    "version": 3
   },
   "file_extension": ".py",
   "mimetype": "text/x-python",
   "name": "python",
   "nbconvert_exporter": "python",
   "pygments_lexer": "ipython3",
   "version": "3.7.9"
  }
 },
 "nbformat": 4,
 "nbformat_minor": 2
}
