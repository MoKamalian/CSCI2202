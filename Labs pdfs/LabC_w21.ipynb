{
 "cells": [
  {
   "cell_type": "markdown",
   "metadata": {},
   "source": [
    "### Lab C: Fibonacci Matrix, Markov Chains & Linear Predator-Prey###"
   ]
  },
  {
   "cell_type": "markdown",
   "metadata": {},
   "source": [
    "**Problem 1a.** The Fibonacci recurrence is:\n",
    " \\begin{align*}\n",
    "  f[n+1] &= f[n] + f[n-1] \\qquad \\qquad  {for } \\quad n > 2    \\\\\n",
    "  [f_1, f_0]^T &= [1, 0]^T \\\\\n",
    "  \\end{align*}\n",
    " Express this as a matrix-vector relation: $G x_k = x_{k+1}$ where $x_k = [f_k, f_{k-1}]^T$ \\&\n",
    "$x_{k+1} = [f_{k+1}, f_k]^T$ \n",
    "\n",
    "( Where G is a $2\\times 2$ matrix).\n",
    "\n",
    "Find the matrix $G$ for this transformation. Carry out the matrix multiplication for 8 steps.\n",
    "Use {\\tt numpy.linalg.matrix\\_power}\n",
    "(See : [Fibbonacci Numbers in nature](http://www.maths.surrey.ac.uk/hosted-sites/R.Knott/Fibonacci/fibnat.html)).\n",
    "\n",
    "The matrix is of interest. This matrix can be the starting point of carry out population distribution studies among animals in their various life-stages (more in Tuesday's lecture)\n"
   ]
  },
  {
   "cell_type": "code",
   "execution_count": null,
   "metadata": {},
   "outputs": [],
   "source": []
  },
  {
   "cell_type": "markdown",
   "metadata": {},
   "source": [
    "**Problem 1b** Use the matrix power function from *numpy.linalg.matrix_power* and calculate $G^3, G^5, G^{10}$. Do you notice anything about the elements of the matrices (you may also want to look at Assignment 1)."
   ]
  },
  {
   "cell_type": "code",
   "execution_count": null,
   "metadata": {},
   "outputs": [],
   "source": []
  },
  {
   "cell_type": "markdown",
   "metadata": {},
   "source": [
    "**Problem 2** In the following problem, you are going to apply matrix-vector multiplication to study a \n",
    "(linear) Predator-Prey interaction.\n",
    "\n",
    "In the forests of N. California, Dusky-footed Wood Rats provide 80\\% of the diet for the Northern Spotted Owl. First, try a simple linear model of the dynamical system that makes up the owls and the rats.\n",
    "\n",
    "The populations at timestep  $𝑘$ are given by  $x_k = [Owls_k, Rats_k]$, where $Rats_k$ are in  $1000′𝑠$ of rats.\n",
    "\n",
    "In the absence of predation (by owls), the rat pop grows by 10% per month (this is the timestep for the model). With no rats for food, the owl population falls to one-half the pop in the prev month. The predation rate of rats is $p$\n",
    "  (take **p = 0.104** to start the experiment). \n",
    "  \n",
    "Since we have a linear model, there are no Owl-Rat interactions (encounters) in the model, we simulate that by an \n",
    "\"efficiency* by which the Owls turn Rats into Owls with a conversion efficiency of 0.4 (i.e. when there are abundant Rats, the Owl pop rises by $0.4∗𝑅𝑎𝑡𝑠$.\n",
    "\n",
    "\\begin{align}\n",
    "  Owls_{n+1} &= 0.5\\cdot Owls_n + 0.4\\cdot Rats_n\\\\\n",
    "  Rats_{n+1} &= -p\\cdot Owls_n + 1.1\\cdot Rats_n\\\\\n",
    "\\end{align}\n",
    "\n",
    "Solve this as a matrix equation by generating $𝑥_1,𝑥_2, \\ldots 𝑥_𝑘$ as usual. Remember, each $x_i = [Owls_i, Rats_i]$.\n",
    "Use $k = 50$. Store the Owl numbers, in each step $i$, in an array $Owl[i]$ and the Rat numbers (in 1000's) in another array $Rats[i]$. \n",
    "\n",
    "Using the arrays $Owl[i]$, $Rats[i]$, make (i) a plot of the Owl Pop. v/s Time and the Rat Pop. v/s Time on the same axes. Now, since this is a *difference* equation, the time step \n",
    "(of a month) is implicit in the model. The time axis is generated using the *numpy* function *linspace* with $k$ intervals (make *endpoint=True*). {\\bf On the same plot}  (ii) Plot $Owl[i]$ v/s $Rat[i]$. \n",
    "\n",
    "Experiment with $[Owl_0, Rats_0] = [20, 40], \\ [35, 40] \\ [45, 40] \\ [60, 40] \\ [80, 40]$ Experiment with changing the predation rate $p$ (pick 4 different values to see the effects on the curves obtained).\n",
    "\n",
    "\n",
    "*To plot numpy arrays $X, Y$ on the same time $t$ axes:  *plt.plot(t, X, 'r-', t, Y, 'b--')*\n",
    "\n",
    "*To make 2 plots side-by-side; use the *matplotlib.pyplot* function *subplot(1,2,1)* before the first plot command and *subplot(1,2,2)* before the second plot command)\n",
    "\n",
    "\n"
   ]
  },
  {
   "cell_type": "markdown",
   "metadata": {},
   "source": []
  },
  {
   "cell_type": "code",
   "execution_count": null,
   "metadata": {},
   "outputs": [],
   "source": []
  }
 ],
 "metadata": {
  "kernelspec": {
   "display_name": "Python 3",
   "language": "python",
   "name": "python3"
  },
  "language_info": {
   "codemirror_mode": {
    "name": "ipython",
    "version": 3
   },
   "file_extension": ".py",
   "mimetype": "text/x-python",
   "name": "python",
   "nbconvert_exporter": "python",
   "pygments_lexer": "ipython3",
   "version": "3.7.6"
  }
 },
 "nbformat": 4,
 "nbformat_minor": 2
}
